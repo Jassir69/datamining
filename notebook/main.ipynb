{
 "cells": [
  {
   "cell_type": "markdown",
   "metadata": {},
   "source": [
    "## Data Mining project: Discover and describe areas of interest an events from geo-located data"
   ]
  },
  {
   "cell_type": "markdown",
   "metadata": {},
   "source": [
    "## Task #1: Import Dataset and Librarie"
   ]
  },
  {
   "cell_type": "markdown",
   "metadata": {},
   "source": [
    "## Library Installation"
   ]
  },
  {
   "cell_type": "code",
   "execution_count": null,
   "metadata": {},
   "outputs": [],
   "source": [
    "# installation of required libraries and dependencies\n",
    "# numeric calculations\n",
    "! pip install numpy==1.26.0 \n",
    "# data frames \n",
    "! pip install pandas==2.1.1 \n",
    "# machine learning algorithms \n",
    "! pip install scikit-learn==1.5.1 \n",
    "! pip install scipy==1.12.0\n",
    "# plotting \n",
    "! pip install plotly==5.24.1 \n",
    "! pip install matplotlib==3.8.0 \n",
    "! pip install seaborn==0.13.2 \n",
    "! pip install plotly-express==0.4.1 \n",
    "! pip install chart-studio==1.1.0 \n",
    "# web app library \n",
    "! pip install streamlit==1.37.1 \n",
    "# association rules\n",
    "! pip install mlxtend==0.23.3 \n",
    "! pip install folium==0.19.4"
   ]
  },
  {
   "cell_type": "markdown",
   "metadata": {},
   "source": [
    "## Import"
   ]
  },
  {
   "cell_type": "code",
   "execution_count": 2,
   "metadata": {},
   "outputs": [],
   "source": [
    "# load pandas to deal with the data\n",
    "import pandas as pd\n",
    "# plotting\n",
    "import matplotlib.pyplot as plt\n",
    "import seaborn as sns\n",
    "import folium"
   ]
  },
  {
   "cell_type": "markdown",
   "metadata": {},
   "source": [
    "# Exploratory Data Analysis"
   ]
  },
  {
   "cell_type": "code",
   "execution_count": null,
   "metadata": {},
   "outputs": [],
   "source": [
    "# Charger le fichier CSV\n",
    "data = pd.read_csv(\"../data/dataSet.csv\", sep=\",\", low_memory=False)\n",
    "\n",
    "data.info()"
   ]
  },
  {
   "cell_type": "markdown",
   "metadata": {},
   "source": [
    "### Type Conversion"
   ]
  },
  {
   "cell_type": "code",
   "execution_count": null,
   "metadata": {},
   "outputs": [],
   "source": [
    "# Sélectionner les colonnes 11 et 12 (indices 10 et 11 en pandas)\n",
    "columns_to_check = data.iloc[:, [11, 12]]\n",
    "\n",
    "# Parcourir chaque colonne sélectionnée\n",
    "for col in columns_to_check.columns:\n",
    "    print(f\"Analyse de la colonne: {col}\")\n",
    "    \n",
    "    # Trouver les types de données présents\n",
    "    types_present = data[col].map(type).value_counts()\n",
    "    print(\"Types présents dans cette colonne :\")\n",
    "    print(types_present)\n",
    "    \n",
    "    # Afficher l'utilisation de la mémoire pour cette colonne\n",
    "    memory_usage = data[col].memory_usage(deep=True)\n",
    "    print(f\"Utilisation de la mémoire pour cette colonne : {memory_usage} bytes\\n\")\n",
    "\n",
    "for col in columns_to_check.columns:\n",
    "    print(f\"Conversion de la colonne: {col}\")\n",
    "    data[col] = pd.to_numeric(data[col], errors='coerce').fillna(0)  # Convertir en float, remplacer les erreurs par NaN\n",
    "\n",
    "    # Vérifier le résultat\n",
    "    print(f\"Colonne {col} après conversion:\")\n",
    "    print(data[col].head())  # Afficher les premières lignes pour valider\n",
    "    print(f\"Types après conversion: {data[col].map(type).value_counts()}\\n\")"
   ]
  },
  {
   "cell_type": "code",
   "execution_count": null,
   "metadata": {},
   "outputs": [],
   "source": [
    "#rename columms\n",
    "data.columns = data.columns.str.strip()\n",
    "print(\"Colonnes après nettoyage :\", data.columns.tolist())"
   ]
  },
  {
   "cell_type": "markdown",
   "metadata": {},
   "source": [
    "### NULL Values"
   ]
  },
  {
   "cell_type": "code",
   "execution_count": null,
   "metadata": {},
   "outputs": [],
   "source": [
    "#Find null values\n",
    "data.isna().sum()"
   ]
  },
  {
   "cell_type": "code",
   "execution_count": null,
   "metadata": {},
   "outputs": [],
   "source": [
    "print(f\"Initial: {len(data)}\")\n",
    "print(data.columns)\n",
    "columns_to_clean = [\n",
    "\t\t\t\t\t'lat', 'long', 'date_taken_minute', 'date_taken_hour', \n",
    "\t\t\t\t\t'date_taken_day', 'date_taken_month', 'date_taken_year', \n",
    "\t\t\t\t\t'date_upload_minute', 'date_upload_hour', 'date_upload_day', \n",
    "\t\t\t\t\t'date_upload_month', 'date_upload_year'\n",
    "\t\t\t\t\t]\n",
    "data_cleaned = data.dropna(subset=columns_to_clean)\n",
    "print(f\"After removing missing values: {len(data_cleaned)}\")"
   ]
  },
  {
   "cell_type": "markdown",
   "metadata": {},
   "source": [
    "### Duplicates"
   ]
  },
  {
   "cell_type": "code",
   "execution_count": null,
   "metadata": {},
   "outputs": [],
   "source": [
    "# Check if there are any duplicates\n",
    "data_cleaned.duplicated().sum()"
   ]
  },
  {
   "cell_type": "code",
   "execution_count": null,
   "metadata": {},
   "outputs": [],
   "source": [
    "# Remove duplicates if necessary\n",
    "print(f\"Initial: {len(data_cleaned)}\")\n",
    "data_cleaned = data_cleaned.drop_duplicates(subset=['user','lat','long','title','date_taken_year','date_taken_month','date_taken_day'],keep='first')\n",
    "print(f\"After removing duplicates: {len(data_cleaned)}\") "
   ]
  },
  {
   "cell_type": "markdown",
   "metadata": {},
   "source": [
    "### Columns"
   ]
  },
  {
   "cell_type": "markdown",
   "metadata": {},
   "source": [
    "Note that the data with a non-null values at column 16 is sorted differently. We conclude that it is hard to determine which value belongs to which column since date_taken_minute, date_taken_month can be ambigous."
   ]
  },
  {
   "cell_type": "code",
   "execution_count": null,
   "metadata": {},
   "outputs": [],
   "source": [
    "columns = ['Unnamed: 16', 'Unnamed: 17', 'Unnamed: 18']\n",
    "column_data = data_cleaned.dropna(subset=columns, how='all')\n",
    "\n",
    "print(column_data.iloc[0])"
   ]
  },
  {
   "cell_type": "markdown",
   "metadata": {},
   "source": [
    "The rows that have non-null values in columns 16, 17 and 18 are retracted from the dataset. These columns thus serve no purpose and are removed as well."
   ]
  },
  {
   "cell_type": "code",
   "execution_count": null,
   "metadata": {},
   "outputs": [],
   "source": [
    "# Specify the columns to check for non-null values\n",
    "columns_to_check = ['Unnamed: 16', 'Unnamed: 17', 'Unnamed: 18']\n",
    "\n",
    "# Drop rows where any of the specified columns are not null\n",
    "print(f\"Initial: {len(data_cleaned)}\")\n",
    "data_cleaned = data_cleaned[data_cleaned[columns_to_check].isnull().all(axis=1)]\n",
    "print(f\"After removing non-null values: {len(data_cleaned)}\")\n",
    "\n",
    "# Drop the columns\n",
    "data_cleaned = data_cleaned.drop(columns=columns)\n",
    "\n",
    "print(data_cleaned.columns)"
   ]
  },
  {
   "cell_type": "markdown",
   "metadata": {},
   "source": [
    "### Save Cleaned Data"
   ]
  },
  {
   "cell_type": "code",
   "execution_count": 12,
   "metadata": {},
   "outputs": [],
   "source": [
    "data_cleaned.to_csv(\"../data/data-cleaned.csv\", index=False)"
   ]
  },
  {
   "cell_type": "markdown",
   "metadata": {},
   "source": [
    "## Descriptive Statistics"
   ]
  },
  {
   "cell_type": "code",
   "execution_count": null,
   "metadata": {},
   "outputs": [],
   "source": [
    "data_cleaned.describe(exclude=[object])"
   ]
  },
  {
   "cell_type": "markdown",
   "metadata": {},
   "source": [
    "## Data Visualisation"
   ]
  },
  {
   "cell_type": "markdown",
   "metadata": {},
   "source": [
    "### Marker"
   ]
  },
  {
   "cell_type": "code",
   "execution_count": null,
   "metadata": {},
   "outputs": [],
   "source": [
    "m = folium.Map(location=(45.764, 4.8357), zoom_start=12)\n",
    "\n",
    "# Sample a subset of the data (e.g., 500 points)\n",
    "sampled_data = data_cleaned.sample(n=1000, random_state=1)\n",
    "\n",
    "latitude_col = sampled_data['lat']\n",
    "longitude_col = sampled_data['long']\n",
    "\n",
    "for i in range(0, len(sampled_data)):\n",
    "\tfolium.Marker([latitude_col.iloc[i], longitude_col.iloc[i]]).add_to(m)\n",
    "\n",
    "m"
   ]
  },
  {
   "cell_type": "markdown",
   "metadata": {},
   "source": [
    "### Heatmap"
   ]
  },
  {
   "cell_type": "code",
   "execution_count": null,
   "metadata": {},
   "outputs": [],
   "source": [
    "from folium.plugins import HeatMap\n",
    "\n",
    "m = folium.Map(location=(45.764, 4.8357), zoom_start=12)\n",
    "\n",
    "# Sample a subset of the data (e.g., 500 points)\n",
    "sampled_data = data_cleaned.sample(n=1000, random_state=1)\n",
    "\n",
    "latitude_col = sampled_data['lat']\n",
    "longitude_col = sampled_data['long']\n",
    "\n",
    "heat_data = [[row['lat'], row['long']] for index, row in sampled_data.iterrows()]\n",
    "HeatMap(heat_data).add_to(m)\n",
    "\n",
    "m"
   ]
  },
  {
   "cell_type": "markdown",
   "metadata": {},
   "source": [
    "## Spatio-temporal Clustering"
   ]
  },
  {
   "cell_type": "code",
   "execution_count": null,
   "metadata": {},
   "outputs": [],
   "source": [
    "print(data_cleaned.columns)"
   ]
  }
 ],
 "metadata": {
  "kernelspec": {
   "display_name": "Python 3",
   "language": "python",
   "name": "python3"
  },
  "language_info": {
   "codemirror_mode": {
    "name": "ipython",
    "version": 3
   },
   "file_extension": ".py",
   "mimetype": "text/x-python",
   "name": "python",
   "nbconvert_exporter": "python",
   "pygments_lexer": "ipython3",
   "version": "3.9.6"
  }
 },
 "nbformat": 4,
 "nbformat_minor": 2
}
