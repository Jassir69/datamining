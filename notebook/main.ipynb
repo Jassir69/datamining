{
 "cells": [
  {
   "cell_type": "markdown",
   "metadata": {},
   "source": [
    "## Data Mining project: Discover and describe areas of interest an events from geo-located data"
   ]
  },
  {
   "cell_type": "markdown",
   "metadata": {},
   "source": [
    "## Task #1: Import Dataset and Librarie"
   ]
  },
  {
   "cell_type": "code",
   "execution_count": null,
   "metadata": {},
   "outputs": [],
   "source": [
    "# installation of required libraries and dependencies\n",
    "# numeric calculations\n",
    "! pip install numpy==1.26.0 \n",
    "# data frames \n",
    "! pip install pandas==2.1.1 \n",
    "# machine learning algorithms \n",
    "! pip install scikit-learn==1.5.1 \n",
    "! pip install scipy==1.12.0\n",
    "# plotting \n",
    "! pip install plotly==5.24.1 \n",
    "! pip install matplotlib==3.8.0 \n",
    "! pip install seaborn==0.13.2 \n",
    "! pip install plotly-express==0.4.1 \n",
    "! pip install chart-studio==1.1.0 \n",
    "# web app library \n",
    "! pip install streamlit==1.37.1 \n",
    "# association rules\n",
    "! pip install mlxtend==0.23.3 "
   ]
  },
  {
   "cell_type": "code",
   "execution_count": 3,
   "metadata": {},
   "outputs": [],
   "source": [
    "# load pandas to deal with the data\n",
    "import pandas as pd\n",
    "# plotting\n",
    "import matplotlib.pyplot as plt\n",
    "import seaborn as sns"
   ]
  },
  {
   "cell_type": "markdown",
   "metadata": {},
   "source": [
    "## Conversion Type"
   ]
  },
  {
   "cell_type": "code",
   "execution_count": null,
   "metadata": {},
   "outputs": [],
   "source": [
    "\n",
    "# Charger le fichier CSV\n",
    "data = pd.read_csv(\"../data/dataSet.csv\", sep=\",\", low_memory=False)\n",
    "\n",
    "# Sélectionner les colonnes 11 et 12 (indices 10 et 11 en pandas)\n",
    "columns_to_check = data.iloc[:, [11, 12]]\n",
    "\n",
    "# Parcourir chaque colonne sélectionnée\n",
    "for col in columns_to_check.columns:\n",
    "    print(f\"Analyse de la colonne: {col}\")\n",
    "    \n",
    "    # Trouver les types de données présents\n",
    "    types_present = data[col].map(type).value_counts()\n",
    "    print(\"Types présents dans cette colonne :\")\n",
    "    print(types_present)\n",
    "    \n",
    "    # Afficher l'utilisation de la mémoire pour cette colonne\n",
    "    memory_usage = data[col].memory_usage(deep=True)\n",
    "    print(f\"Utilisation de la mémoire pour cette colonne : {memory_usage} bytes\\n\")\n",
    "\n",
    "for col in columns_to_check.columns:\n",
    "    print(f\"Conversion de la colonne: {col}\")\n",
    "    data[col] = pd.to_numeric(data[col], errors='coerce').fillna(0)  # Convertir en float, remplacer les erreurs par NaN\n",
    "\n",
    "    # Vérifier le résultat\n",
    "    print(f\"Colonne {col} après conversion:\")\n",
    "    print(data[col].head())  # Afficher les premières lignes pour valider\n",
    "    print(f\"Types après conversion: {data[col].map(type).value_counts()}\\n\")"
   ]
  },
  {
   "cell_type": "code",
   "execution_count": null,
   "metadata": {},
   "outputs": [],
   "source": [
    "#rename columms\n",
    "data.columns = data.columns.str.strip()\n",
    "print(\"Colonnes après nettoyage :\", data.columns.tolist())\n"
   ]
  },
  {
   "cell_type": "markdown",
   "metadata": {},
   "source": [
    "## NULL Values"
   ]
  },
  {
   "cell_type": "code",
   "execution_count": null,
   "metadata": {},
   "outputs": [],
   "source": [
    "#Find null values\n",
    "print(f\"Initial: {len(data)}\")\n",
    "data.isna().sum()\n",
    "\n",
    "\n",
    "selected_columns = data.iloc[:, [16, 17, 18]]\n",
    "\n",
    "# Filter rows where any of the selected columns are not null\n",
    "filtered_data = selected_columns.dropna(how='all')\n",
    "filtered_data.to_csv('filtered_data.csv', index=False)\n",
    "\n",
    "# Print the filtered data\n",
    "print(filtered_data)"
   ]
  },
  {
   "cell_type": "code",
   "execution_count": null,
   "metadata": {},
   "outputs": [],
   "source": [
    "print(f\"Initial: {len(data)}\")\n",
    "print(data.columns)\n",
    "data_cleaned = data.dropna(subset=['lat', 'long'])\n",
    "print(f\"After removing missing values: {len(data_cleaned)}\")"
   ]
  },
  {
   "cell_type": "markdown",
   "metadata": {},
   "source": [
    "## Duplicates"
   ]
  },
  {
   "cell_type": "code",
   "execution_count": null,
   "metadata": {},
   "outputs": [],
   "source": [
    "data_cleaned = data_cleaned.drop_duplicates(subset=['user','lat','long','title','date_taken_year','date_taken_month','date_taken_day'],keep='first')\n",
    "print(f\"Initial: {len(data)}\")\n",
    "print(f\"After removing duplicates: {len(data_cleaned)}\") "
   ]
  },
  {
   "cell_type": "markdown",
   "metadata": {},
   "source": [
    "## Visualize Geolocated Points"
   ]
  },
  {
   "cell_type": "code",
   "execution_count": null,
   "metadata": {},
   "outputs": [],
   "source": []
  }
 ],
 "metadata": {
  "kernelspec": {
   "display_name": "Python 3",
   "language": "python",
   "name": "python3"
  },
  "language_info": {
   "codemirror_mode": {
    "name": "ipython",
    "version": 3
   },
   "file_extension": ".py",
   "mimetype": "text/x-python",
   "name": "python",
   "nbconvert_exporter": "python",
   "pygments_lexer": "ipython3",
   "version": "3.9.6"
  }
 },
 "nbformat": 4,
 "nbformat_minor": 2
}
